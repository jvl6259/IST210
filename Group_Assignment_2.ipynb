{
  "nbformat": 4,
  "nbformat_minor": 0,
  "metadata": {
    "colab": {
      "name": "Group Assignment 2.ipynb",
      "provenance": []
    },
    "kernelspec": {
      "name": "python3",
      "display_name": "Python 3"
    }
  },
  "cells": [
    {
      "cell_type": "markdown",
      "metadata": {
        "id": "HgE9qGPOvovc",
        "colab_type": "text"
      },
      "source": [
        "#Best Buy\n",
        "\n",
        "Our Best Buy Corporation’s database includes Customers, Workers, Suppliers,\n",
        "Products, and Stores.\n",
        "\n",
        "/\n",
        "\n",
        "We have a Customer table to keep track of all the customers in the system. For \n",
        "each customer we have the key of their customerID, Name, Email address, and the \n",
        "Payment Methods they used to purchase products. We also have the store credit \n",
        "they get from purchasing products as well as their preferred store, which is \n",
        "connected to the StoreID in Stores table.\n",
        "\n",
        "/\n",
        "\n",
        "The Workers table is meant to help us keep track of the workers who work for \n",
        "Bestbuy stores. We have the key of their workerID, Name, Seniority (how many \n",
        "years they have been working for Bestbuy), their Salary information, and \n",
        "StoreID(the store they work at), which is connected to the storeID in Stores \n",
        "table.\n",
        "\n",
        "/\n",
        "\n",
        "The Suppliers table is meant to keep track of the information of the suppliers \n",
        "who is responsible for supplying products to Bestbuy. The Suppliers table has \n",
        "the key of their supplierID, Name, Address, Email and Balance. The supplierID \n",
        "is connected to the one in Products table.  \n",
        "\n",
        "/\n",
        "\n",
        "We have the Products table, which helps us keep track of all the products in \n",
        "Best Buy database. People can get the information of the name of the products, \n",
        "their retailing price, how many units of them have been sold as well as the \n",
        "suppliers ID. Suppliers ID is connected to the suppliers table, for knowing the \n",
        "information of the suppliers.\n",
        "\n",
        "/\n",
        "\n",
        "For the Stores table, we keep track of all the Bestbuy stores. This table \n",
        "includes the storeID, which is connected to the Preferred Store in the Customer \n",
        "table(the store where the customer shop at). It also includes the store Address,\n",
        "the Number of Workers in each store, the managerID (who is in charge of the \n",
        "workers in their store, so they are connected to the workerID in Workers table),\n",
        "and the Phone Number( how to contact the store).\n",
        "\n",
        "#ERD\n",
        "\n",
        "[Best Buy Diagram Here](https://drive.google.com/file/d/1OwZTBt0JotIAbbglj6H_636zP-vFsbl-/view?usp=sharing)"
      ]
    }
  ]
}